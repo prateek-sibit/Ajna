{
  "cells": [
    {
      "metadata": {
        "collapsed": true
      },
      "cell_type": "markdown",
      "source": "# Ajna "
    },
    {
      "metadata": {},
      "cell_type": "markdown",
      "source": "Project Steps : \n1. Extract faces using extract_faces.py script\n2. Run extracted faces through ISR to enhance resolution\n3. Save Enhanced images to output folder"
    },
    {
      "metadata": {},
      "cell_type": "markdown",
      "source": "## Install ISR"
    },
    {
      "metadata": {
        "trusted": true
      },
      "cell_type": "code",
      "source": "!pip install ISR",
      "execution_count": 2,
      "outputs": [
        {
          "output_type": "stream",
          "text": "Collecting ISR\n  Downloading https://files.pythonhosted.org/packages/41/4f/ab6b125eb99da599e01935ba2d5f13c7d8f53deed45cff90f1e4f59559f9/ISR-2.0.0-py3-none-any.whl\nRequirement already satisfied: tqdm in /home/nbuser/anaconda3_501/lib/python3.6/site-packages (from ISR) (4.26.0)\nRequirement already satisfied: imageio in /home/nbuser/anaconda3_501/lib/python3.6/site-packages (from ISR) (2.4.1)\nCollecting Keras==2.2.4 (from ISR)\n\u001b[?25l  Downloading https://files.pythonhosted.org/packages/5e/10/aa32dad071ce52b5502266b5c659451cfd6ffcbf14e6c8c4f16c0ff5aaab/Keras-2.2.4-py2.py3-none-any.whl (312kB)\n\u001b[K    100% |████████████████████████████████| 317kB 17.0MB/s ta 0:00:01\n\u001b[?25hCollecting tensorflow==1.13.1 (from ISR)\n\u001b[?25l  Downloading https://files.pythonhosted.org/packages/77/63/a9fa76de8dffe7455304c4ed635be4aa9c0bacef6e0633d87d5f54530c5c/tensorflow-1.13.1-cp36-cp36m-manylinux1_x86_64.whl (92.5MB)\n\u001b[K    100% |████████████████████████████████| 92.5MB 12kB/s  eta 0:00:01��            | 57.0MB 13.2MB/s eta 0:00:03K    68% |█████████████████████▉          | 63.3MB 17.8MB/s eta 0:00:02    70% |██████████████████████▋         | 65.5MB 10.3MB/s eta 0:00:03�████████████▎   | 81.8MB 53.3MB/s eta 0:00:01███████████████████████▉   | 83.5MB 30.0MB/s eta 0:00:01��█████████████▋ | 88.4MB 19.0MB/s eta 0:00:01\n\u001b[?25hCollecting numpy==1.16.2 (from ISR)\n\u001b[?25l  Downloading https://files.pythonhosted.org/packages/35/d5/4f8410ac303e690144f0a0603c4b8fd3b986feb2749c435f7cdbb288f17e/numpy-1.16.2-cp36-cp36m-manylinux1_x86_64.whl (17.3MB)\n\u001b[K    100% |████████████████████████████████| 17.3MB 72kB/s  eta 0:00:01   29% |█████████▍                      | 5.1MB 20.9MB/s eta 0:00:01\n\u001b[?25hRequirement already satisfied: scipy>=0.14 in /home/nbuser/anaconda3_501/lib/python3.6/site-packages (from Keras==2.2.4->ISR) (1.1.0)\nRequirement already satisfied: pyyaml in /home/nbuser/anaconda3_501/lib/python3.6/site-packages (from Keras==2.2.4->ISR) (3.13)\nRequirement already satisfied: keras-preprocessing>=1.0.5 in /home/nbuser/anaconda3_501/lib/python3.6/site-packages (from Keras==2.2.4->ISR) (1.0.9)\nRequirement already satisfied: h5py in /home/nbuser/anaconda3_501/lib/python3.6/site-packages (from Keras==2.2.4->ISR) (2.8.0)\nRequirement already satisfied: six>=1.9.0 in /home/nbuser/anaconda3_501/lib/python3.6/site-packages (from Keras==2.2.4->ISR) (1.11.0)\nRequirement already satisfied: keras-applications>=1.0.6 in /home/nbuser/anaconda3_501/lib/python3.6/site-packages (from Keras==2.2.4->ISR) (1.0.7)\nCollecting tensorflow-estimator<1.14.0rc0,>=1.13.0 (from tensorflow==1.13.1->ISR)\n\u001b[?25l  Downloading https://files.pythonhosted.org/packages/bb/48/13f49fc3fa0fdf916aa1419013bb8f2ad09674c275b4046d5ee669a46873/tensorflow_estimator-1.13.0-py2.py3-none-any.whl (367kB)\n\u001b[K    100% |████████████████████████████████| 368kB 19.7MB/s ta 0:00:01\n\u001b[?25hCollecting tensorboard<1.14.0,>=1.13.0 (from tensorflow==1.13.1->ISR)\n\u001b[?25l  Downloading https://files.pythonhosted.org/packages/0f/39/bdd75b08a6fba41f098b6cb091b9e8c7a80e1b4d679a581a0ccd17b10373/tensorboard-1.13.1-py3-none-any.whl (3.2MB)\n\u001b[K    100% |████████████████████████████████| 3.2MB 7.5MB/s eta 0:00:01\n\u001b[?25hRequirement already satisfied: absl-py>=0.1.6 in /home/nbuser/anaconda3_501/lib/python3.6/site-packages (from tensorflow==1.13.1->ISR) (0.7.0)\nRequirement already satisfied: astor>=0.6.0 in /home/nbuser/anaconda3_501/lib/python3.6/site-packages (from tensorflow==1.13.1->ISR) (0.7.1)\nRequirement already satisfied: termcolor>=1.1.0 in /home/nbuser/anaconda3_501/lib/python3.6/site-packages (from tensorflow==1.13.1->ISR) (1.1.0)\nRequirement already satisfied: protobuf>=3.6.1 in /home/nbuser/anaconda3_501/lib/python3.6/site-packages (from tensorflow==1.13.1->ISR) (3.7.0)\nRequirement already satisfied: wheel>=0.26 in /home/nbuser/anaconda3_501/lib/python3.6/site-packages (from tensorflow==1.13.1->ISR) (0.30.0)\nRequirement already satisfied: gast>=0.2.0 in /home/nbuser/anaconda3_501/lib/python3.6/site-packages (from tensorflow==1.13.1->ISR) (0.2.2)\nRequirement already satisfied: grpcio>=1.8.6 in /home/nbuser/anaconda3_501/lib/python3.6/site-packages (from tensorflow==1.13.1->ISR) (1.19.0)\nRequirement already satisfied: mock>=2.0.0 in /home/nbuser/anaconda3_501/lib/python3.6/site-packages (from tensorflow-estimator<1.14.0rc0,>=1.13.0->tensorflow==1.13.1->ISR) (2.0.0)\nRequirement already satisfied: markdown>=2.6.8 in /home/nbuser/anaconda3_501/lib/python3.6/site-packages (from tensorboard<1.14.0,>=1.13.0->tensorflow==1.13.1->ISR) (3.0.1)\nRequirement already satisfied: werkzeug>=0.11.15 in /home/nbuser/anaconda3_501/lib/python3.6/site-packages (from tensorboard<1.14.0,>=1.13.0->tensorflow==1.13.1->ISR) (0.14.1)\nRequirement already satisfied: setuptools in /home/nbuser/anaconda3_501/lib/python3.6/site-packages (from protobuf>=3.6.1->tensorflow==1.13.1->ISR) (40.8.0)\nRequirement already satisfied: pbr>=0.11 in /home/nbuser/anaconda3_501/lib/python3.6/site-packages (from mock>=2.0.0->tensorflow-estimator<1.14.0rc0,>=1.13.0->tensorflow==1.13.1->ISR) (4.2.0)\n\u001b[31mscikit-bio 0.5.4 has requirement numpy<1.14.0,>=1.9.2, but you'll have numpy 1.16.2 which is incompatible.\u001b[0m\n\u001b[31mazureml-train-automl 1.0.17.1 has requirement numpy<1.15.0,>=1.11.0, but you'll have numpy 1.16.2 which is incompatible.\u001b[0m\n\u001b[31mazureml-train-automl 1.0.17.1 has requirement tensorflow<=1.12.0,>=1.10.0, but you'll have tensorflow 1.13.1 which is incompatible.\u001b[0m\nInstalling collected packages: numpy, Keras, tensorflow-estimator, tensorboard, tensorflow, ISR\n  Found existing installation: numpy 1.14.6\n    Uninstalling numpy-1.14.6:\n      Successfully uninstalled numpy-1.14.6\n  Found existing installation: Keras 2.2.2\n    Uninstalling Keras-2.2.2:\n      Successfully uninstalled Keras-2.2.2\n  Found existing installation: tensorboard 1.12.2\n    Uninstalling tensorboard-1.12.2:\n      Successfully uninstalled tensorboard-1.12.2\n  Found existing installation: tensorflow 1.12.0\n    Uninstalling tensorflow-1.12.0:\n      Successfully uninstalled tensorflow-1.12.0\nSuccessfully installed ISR-2.0.0 Keras-2.2.4 numpy-1.16.2 tensorboard-1.13.1 tensorflow-1.13.1 tensorflow-estimator-1.13.0\n",
          "name": "stdout"
        }
      ]
    },
    {
      "metadata": {},
      "cell_type": "markdown",
      "source": "#### Get the weights with"
    },
    {
      "metadata": {
        "trusted": true
      },
      "cell_type": "code",
      "source": "!wget https://github.com/idealo/image-super-resolution/raw/master/weights/sample_weights/rdn-C6-D20-G64-G064-x2_enhanced-e219.hdf5\n!wget https://github.com/idealo/image-super-resolution/raw/master/weights/sample_weights/rdn-C6-D20-G64-G064-x2_div2k-e086.hdf5\n!wget https://github.com/idealo/image-super-resolution/raw/master/weights/sample_weights/rdn-C3-D10-G64-G064-x2_div2k-e134.hdf5\n!mkdir weights\n!mv *.hdf5 weights",
      "execution_count": null,
      "outputs": []
    },
    {
      "metadata": {},
      "cell_type": "markdown",
      "source": "## Creating Model and Predicting on Extracted Faces "
    },
    {
      "metadata": {},
      "cell_type": "markdown",
      "source": "Create the RDN model, for which we provide pre-trained weights, and load them\n"
    },
    {
      "metadata": {
        "trusted": true
      },
      "cell_type": "code",
      "source": "from ISR.models import RDN",
      "execution_count": 3,
      "outputs": [
        {
          "output_type": "stream",
          "text": "Using TensorFlow backend.\n",
          "name": "stderr"
        }
      ]
    },
    {
      "metadata": {},
      "cell_type": "markdown",
      "source": "#### Large RDN noise cancelling, detail enchancing model "
    },
    {
      "metadata": {
        "trusted": true
      },
      "cell_type": "code",
      "source": "rdn = RDN(arch_params={'C': 6, 'D':20, 'G':64, 'G0':64, 'x':2})\nrdn.model.load_weights('weights/rdn-C6-D20-G64-G064-x2_enhanced-e219.hdf5')",
      "execution_count": 4,
      "outputs": [
        {
          "output_type": "stream",
          "text": "WARNING:tensorflow:From /home/nbuser/anaconda3_501/lib/python3.6/site-packages/tensorflow/python/framework/op_def_library.py:263: colocate_with (from tensorflow.python.framework.ops) is deprecated and will be removed in a future version.\nInstructions for updating:\nColocations handled automatically by placer.\n",
          "name": "stdout"
        }
      ]
    },
    {
      "metadata": {},
      "cell_type": "markdown",
      "source": "#### Predictor Class"
    },
    {
      "metadata": {},
      "cell_type": "markdown",
      "source": "We can use the predictor class to run the model on entire folders"
    },
    {
      "metadata": {
        "trusted": true
      },
      "cell_type": "code",
      "source": "from ISR.predict import Predictor",
      "execution_count": null,
      "outputs": []
    },
    {
      "metadata": {},
      "cell_type": "markdown",
      "source": "#### Test Example 1"
    },
    {
      "metadata": {
        "trusted": true
      },
      "cell_type": "code",
      "source": "predictor = Predictor(input_dir='Extracted/test1/')\npredictor.get_predictions(model=rdn, weights_path='weights/rdn-C6-D20-G64-G064-x2_enhanced-e219.hdf5')",
      "execution_count": 7,
      "outputs": [
        {
          "output_type": "stream",
          "text": "Creating output directory:\n./data/output/test1\nLoaded weights from \n > weights/rdn-C6-D20-G64-G064-x2_enhanced-e219.hdf5\nResults in:\n > ./data/output/test1/rdn-C6-D20-G64-G064-x2/enhanced-e219\nProcessing file\n > Extracted/test1/3730.jpg\nElapsed time: 2.6549651622772217s\nResult in: ./data/output/test1/rdn-C6-D20-G64-G064-x2/enhanced-e219/3730.jpg\nProcessing file\n > Extracted/test1/6155.jpg\nElapsed time: 0.9618921279907227s\nResult in: ./data/output/test1/rdn-C6-D20-G64-G064-x2/enhanced-e219/6155.jpg\nProcessing file\n > Extracted/test1/1978.jpg\nElapsed time: 2.74815034866333s\nResult in: ./data/output/test1/rdn-C6-D20-G64-G064-x2/enhanced-e219/1978.jpg\nProcessing file\n > Extracted/test1/5786.jpg\nElapsed time: 2.5163497924804688s\nResult in: ./data/output/test1/rdn-C6-D20-G64-G064-x2/enhanced-e219/5786.jpg\nProcessing file\n > Extracted/test1/6472.jpg\nElapsed time: 4.20000958442688s\nResult in: ./data/output/test1/rdn-C6-D20-G64-G064-x2/enhanced-e219/6472.jpg\nProcessing file\n > Extracted/test1/9207.jpg\nElapsed time: 2.801316976547241s\nResult in: ./data/output/test1/rdn-C6-D20-G64-G064-x2/enhanced-e219/9207.jpg\nProcessing file\n > Extracted/test1/8965.jpg\nElapsed time: 3.4782915115356445s\nResult in: ./data/output/test1/rdn-C6-D20-G64-G064-x2/enhanced-e219/8965.jpg\n",
          "name": "stderr"
        }
      ]
    },
    {
      "metadata": {},
      "cell_type": "markdown",
      "source": "#### Test Example 2\n"
    },
    {
      "metadata": {
        "trusted": true
      },
      "cell_type": "code",
      "source": "predictor = Predictor(input_dir='Extracted/test2/')\npredictor.get_predictions(model=rdn, weights_path='weights/rdn-C6-D20-G64-G064-x2_enhanced-e219.hdf5')",
      "execution_count": 6,
      "outputs": [
        {
          "output_type": "stream",
          "text": "Creating output directory:\n./data/output/test2\nLoaded weights from \n > weights/rdn-C6-D20-G64-G064-x2_enhanced-e219.hdf5\nResults in:\n > ./data/output/test2/rdn-C6-D20-G64-G064-x2/enhanced-e219\nProcessing file\n > Extracted/test2/9439.jpg\nElapsed time: 0.9261398315429688s\nResult in: ./data/output/test2/rdn-C6-D20-G64-G064-x2/enhanced-e219/9439.jpg\nProcessing file\n > Extracted/test2/2451.jpg\nElapsed time: 1.0030694007873535s\nResult in: ./data/output/test2/rdn-C6-D20-G64-G064-x2/enhanced-e219/2451.jpg\nProcessing file\n > Extracted/test2/7018.jpg\nElapsed time: 0.7759292125701904s\nResult in: ./data/output/test2/rdn-C6-D20-G64-G064-x2/enhanced-e219/7018.jpg\nProcessing file\n > Extracted/test2/4185.jpg\nElapsed time: 0.7622251510620117s\nResult in: ./data/output/test2/rdn-C6-D20-G64-G064-x2/enhanced-e219/4185.jpg\nProcessing file\n > Extracted/test2/2992.jpg\nElapsed time: 3.475558042526245s\nResult in: ./data/output/test2/rdn-C6-D20-G64-G064-x2/enhanced-e219/2992.jpg\nProcessing file\n > Extracted/test2/376.jpg\nElapsed time: 9.425698518753052s\nResult in: ./data/output/test2/rdn-C6-D20-G64-G064-x2/enhanced-e219/376.jpg\n",
          "name": "stderr"
        }
      ]
    },
    {
      "metadata": {
        "trusted": true
      },
      "cell_type": "code",
      "source": "",
      "execution_count": null,
      "outputs": []
    }
  ],
  "metadata": {
    "kernelspec": {
      "name": "python36",
      "display_name": "Python 3.6",
      "language": "python"
    },
    "language_info": {
      "mimetype": "text/x-python",
      "nbconvert_exporter": "python",
      "name": "python",
      "pygments_lexer": "ipython3",
      "version": "3.6.6",
      "file_extension": ".py",
      "codemirror_mode": {
        "version": 3,
        "name": "ipython"
      }
    }
  },
  "nbformat": 4,
  "nbformat_minor": 2
}